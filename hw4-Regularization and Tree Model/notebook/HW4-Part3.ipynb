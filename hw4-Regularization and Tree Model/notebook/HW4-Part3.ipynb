{
 "cells": [
  {
   "cell_type": "markdown",
   "id": "045e1532-40f9-46c9-b915-4721822b2245",
   "metadata": {},
   "source": [
    "## PART3\n",
    "## Question 2 (e,f)(weka)"
   ]
  },
  {
   "cell_type": "markdown",
   "id": "8865ee73-759e-471e-aa6f-5a3ba37d4a5d",
   "metadata": {},
   "source": [
    "#### (e) Model Trees \n",
    "##### One can use scikit learn to call Weka to train Logistic Model Trees for classiﬁcation. Train Logistic Model Trees for the APS data set without compensation for class imbalance. Use one of 5 fold, 10 fold, and leave-one-out cross validation methods to estimate the error of your trained model and compare it with the test error. Report the Confusion Matrix, ROC, and AUC for training and test sets.\n",
    "\n",
    "##### Answer:\n",
    "##### I choose 5-fold cv, the cv error is 0.85% ,the train error is 0.3067%, the test error is 0.8688%. The confusion matrix, roc and auc is reported below."
   ]
  },
  {
   "cell_type": "code",
   "execution_count": 1,
   "id": "e3613029-cc0c-4a44-92a3-d59f7bbed063",
   "metadata": {},
   "outputs": [],
   "source": [
    "# load the data and packages\n",
    "import pandas as pd\n",
    "import numpy as np\n",
    "import os\n",
    "import re\n",
    "import matplotlib.pyplot as plt\n",
    "import seaborn as sns\n",
    "from sklearn.metrics import classification_report, roc_auc_score, confusion_matrix, roc_curve, RocCurveDisplay, accuracy_score\n",
    "import warnings\n",
    "warnings.filterwarnings(\"ignore\")\n",
    "\n",
    "data_test = pd.read_csv('../data/aps_failure_test_set.csv', skiprows=19, sep=\",\", na_values=[\"na\"])\n",
    "data_train = pd.read_csv('../data/aps_failure_training_set.csv', skiprows=19, sep=\",\", na_values=[\"na\"])"
   ]
  },
  {
   "cell_type": "code",
   "execution_count": 2,
   "id": "90685daf-6257-471f-b81c-718fbc2c5edc",
   "metadata": {},
   "outputs": [],
   "source": [
    "# for saving time, if we can find knn_x_csv in the dir, we ignore the imputation.\n",
    "from sklearn.experimental import enable_iterative_imputer  # noqa\n",
    "from sklearn.impute import IterativeImputer, SimpleImputer, KNNImputer\n",
    "\n",
    "data = data_train.append(data_test)\n",
    "\n",
    "if os.path.isfile(\"knn_x.csv\"):\n",
    "    df_knn_x = pd.read_csv('knn_x.csv')\n",
    "else:\n",
    "    features_name = data_train.iloc[:,1:].columns.tolist()\n",
    "    imp_knn = KNNImputer(missing_values=np.nan)\n",
    "    data_knn_x = imp_knn.fit_transform(data.iloc[:,1:])\n",
    "    df_knn_x = pd.DataFrame(data_knn_x, columns = features_name)\n",
    "    df_knn_x.to_csv(\"knn_x.csv\",index=0)\n",
    "    \n",
    "    "
   ]
  },
  {
   "cell_type": "code",
   "execution_count": 3,
   "id": "dd7e1a2a-a0cb-4553-acda-45a9af4b7a4f",
   "metadata": {},
   "outputs": [],
   "source": [
    "y_train = data_train['class']\n",
    "y_test = data_test['class']\n",
    "\n",
    "knn_x_train = df_knn_x.iloc[0:60000,:]\n",
    "knn_x_test = df_knn_x.iloc[60000:,:]"
   ]
  },
  {
   "cell_type": "code",
   "execution_count": 4,
   "id": "bac274fd-ddb0-4399-af0c-3258d42a6f8b",
   "metadata": {},
   "outputs": [
    {
     "name": "stderr",
     "output_type": "stream",
     "text": [
      "DEBUG:weka.core.jvm:Adding bundled jars\n",
      "DEBUG:weka.core.jvm:Classpath=['/Users/qian/opt/anaconda3/envs/tensorflow/lib/python3.8/site-packages/javabridge/jars/rhino-1.7R4.jar', '/Users/qian/opt/anaconda3/envs/tensorflow/lib/python3.8/site-packages/javabridge/jars/runnablequeue.jar', '/Users/qian/opt/anaconda3/envs/tensorflow/lib/python3.8/site-packages/javabridge/jars/cpython.jar', '/Users/qian/opt/anaconda3/envs/tensorflow/lib/python3.8/site-packages/weka/lib/python-weka-wrapper.jar', '/Users/qian/opt/anaconda3/envs/tensorflow/lib/python3.8/site-packages/weka/lib/weka.jar']\n",
      "DEBUG:weka.core.jvm:MaxHeapSize=default\n",
      "DEBUG:weka.core.jvm:Package support enabled\n"
     ]
    },
    {
     "data": {
      "text/plain": [
       "True"
      ]
     },
     "execution_count": 4,
     "metadata": {},
     "output_type": "execute_result"
    }
   ],
   "source": [
    "import javabridge\n",
    "import weka.core.jvm as jvm\n",
    "jvm.start(packages=True)\n",
    "\n",
    "import weka.core.packages as packages\n",
    "from weka.classifiers import FilteredClassifier\n",
    "from weka.core.dataset import create_instances_from_matrices\n",
    "from weka.classifiers import Classifier\n",
    "from weka.filters import Filter\n",
    "from weka.classifiers import Evaluation\n",
    "from weka.core.classes import Random\n",
    "import weka.plot.classifiers as plcls  \n",
    "\n",
    "packages.install_package(\"SMOTE\")"
   ]
  },
  {
   "cell_type": "code",
   "execution_count": 5,
   "id": "7929385f-ecb4-49ca-9371-712278f7f41a",
   "metadata": {},
   "outputs": [],
   "source": [
    "x_train_weka = knn_x_train.values\n",
    "x_test_weka = knn_x_test.values\n",
    "\n",
    "from sklearn.preprocessing import LabelEncoder\n",
    "le = LabelEncoder()\n",
    "le.fit([\"neg\", \"pos\"])\n",
    "y_train_weka2 = le.transform(y_train)\n",
    "y_test_weka2 = le.transform(y_test)"
   ]
  },
  {
   "cell_type": "code",
   "execution_count": 6,
   "id": "b806a353-29fe-4b5f-a865-8dd04eba9e7d",
   "metadata": {},
   "outputs": [],
   "source": [
    "dataset_train = create_instances_from_matrices(x_train_weka, y_train_weka2, name=\"train data\")\n",
    "dataset_test = create_instances_from_matrices(x_test_weka, y_test_weka2, name=\"test data\")\n",
    "\n",
    "dataset_train.class_is_last()\n",
    "dataset_test.class_is_last()"
   ]
  },
  {
   "cell_type": "code",
   "execution_count": 7,
   "id": "b1dee4ba-5342-4cb6-ba2a-69e7f6d5c0a9",
   "metadata": {},
   "outputs": [],
   "source": [
    "num_to_nom = Filter(classname=\"weka.filters.unsupervised.attribute.NumericToNominal\", options=[\"-R\", \"last\"])\n",
    "num_to_nom.inputformat(dataset_train)    #data is the weka dataset whose last column is numeric.\n",
    "\n",
    "train_data =num_to_nom.filter(dataset_train)   #newData is the weka dataset whose last column is nominal.\n",
    "test_data =num_to_nom.filter(dataset_test)"
   ]
  },
  {
   "cell_type": "code",
   "execution_count": 8,
   "id": "529dc22e-faeb-4b79-b9f0-19f273204346",
   "metadata": {},
   "outputs": [],
   "source": [
    "from weka.classifiers import Classifier\n",
    "cls = Classifier(classname=\"weka.classifiers.trees.LMT\")\n",
    "\n",
    "cls.build_classifier(train_data)\n"
   ]
  },
  {
   "cell_type": "code",
   "execution_count": 9,
   "id": "31dc2da8-f811-47da-a21f-20f31ddfe180",
   "metadata": {},
   "outputs": [
    {
     "name": "stdout",
     "output_type": "stream",
     "text": [
      "This is the train data result:\n",
      "\n",
      "Correctly Classified Instances       59816               99.6933 %\n",
      "Incorrectly Classified Instances       184                0.3067 %\n",
      "Kappa statistic                          0.8992\n",
      "Mean absolute error                      0.0059\n",
      "Root mean squared error                  0.0527\n",
      "Relative absolute error                 17.9881 %\n",
      "Root relative squared error             41.1861 %\n",
      "Total Number of Instances            60000     \n",
      "\n"
     ]
    },
    {
     "data": {
      "text/html": [
       "<div>\n",
       "<style scoped>\n",
       "    .dataframe tbody tr th:only-of-type {\n",
       "        vertical-align: middle;\n",
       "    }\n",
       "\n",
       "    .dataframe tbody tr th {\n",
       "        vertical-align: top;\n",
       "    }\n",
       "\n",
       "    .dataframe thead th {\n",
       "        text-align: right;\n",
       "    }\n",
       "</style>\n",
       "<table border=\"1\" class=\"dataframe\">\n",
       "  <thead>\n",
       "    <tr style=\"text-align: right;\">\n",
       "      <th></th>\n",
       "      <th>predicted neg</th>\n",
       "      <th>predicted pos</th>\n",
       "    </tr>\n",
       "  </thead>\n",
       "  <tbody>\n",
       "    <tr>\n",
       "      <th>neg</th>\n",
       "      <td>58981.0</td>\n",
       "      <td>19.0</td>\n",
       "    </tr>\n",
       "    <tr>\n",
       "      <th>pos</th>\n",
       "      <td>165.0</td>\n",
       "      <td>835.0</td>\n",
       "    </tr>\n",
       "  </tbody>\n",
       "</table>\n",
       "</div>"
      ],
      "text/plain": [
       "     predicted neg  predicted pos\n",
       "neg        58981.0           19.0\n",
       "pos          165.0          835.0"
      ]
     },
     "metadata": {},
     "output_type": "display_data"
    },
    {
     "data": {
      "image/png": "[encoded data removed]",
      "text/plain": [
       "<Figure size 432x288 with 1 Axes>"
      ]
     },
     "metadata": {
      "needs_background": "light"
     },
     "output_type": "display_data"
    },
    {
     "name": "stdout",
     "output_type": "stream",
     "text": [
      "This is the test data result:\n",
      "\n",
      "Correctly Classified Instances       15861               99.1312 %\n",
      "Incorrectly Classified Instances       139                0.8688 %\n",
      "Kappa statistic                          0.7903\n",
      "Mean absolute error                      0.011 \n",
      "Root mean squared error                  0.0875\n",
      "Relative absolute error                 27.9503 %\n",
      "Root relative squared error             57.7991 %\n",
      "Total Number of Instances            16000     \n",
      "\n"
     ]
    },
    {
     "data": {
      "text/html": [
       "<div>\n",
       "<style scoped>\n",
       "    .dataframe tbody tr th:only-of-type {\n",
       "        vertical-align: middle;\n",
       "    }\n",
       "\n",
       "    .dataframe tbody tr th {\n",
       "        vertical-align: top;\n",
       "    }\n",
       "\n",
       "    .dataframe thead th {\n",
       "        text-align: right;\n",
       "    }\n",
       "</style>\n",
       "<table border=\"1\" class=\"dataframe\">\n",
       "  <thead>\n",
       "    <tr style=\"text-align: right;\">\n",
       "      <th></th>\n",
       "      <th>predicted neg</th>\n",
       "      <th>predicted pos</th>\n",
       "    </tr>\n",
       "  </thead>\n",
       "  <tbody>\n",
       "    <tr>\n",
       "      <th>neg</th>\n",
       "      <td>15592.0</td>\n",
       "      <td>33.0</td>\n",
       "    </tr>\n",
       "    <tr>\n",
       "      <th>pos</th>\n",
       "      <td>106.0</td>\n",
       "      <td>269.0</td>\n",
       "    </tr>\n",
       "  </tbody>\n",
       "</table>\n",
       "</div>"
      ],
      "text/plain": [
       "     predicted neg  predicted pos\n",
       "neg        15592.0           33.0\n",
       "pos          106.0          269.0"
      ]
     },
     "metadata": {},
     "output_type": "display_data"
    },
    {
     "data": {
      "image/png": "[encoded data removed]",
      "text/plain": [
       "<Figure size 432x288 with 1 Axes>"
      ]
     },
     "metadata": {
      "needs_background": "light"
     },
     "output_type": "display_data"
    }
   ],
   "source": [
    "# evaluate model on train and test set\n",
    "print(\"This is the train data result:\")\n",
    "evl_train = Evaluation(train_data)\n",
    "y_predict_train = evl_train.test_model(cls, train_data)\n",
    "print(evl_train.summary())\n",
    "cm_df_weka_train = pd.DataFrame(evl_train.confusion_matrix, columns=[\"predicted neg\",\"predicted pos\"], index=[\"neg\", \"pos\"])\n",
    "display(cm_df_weka_train)\n",
    "plcls.plot_roc(evl_train, title=\"train data roc\", wait=True)\n",
    "\n",
    "\n",
    "\n",
    "print(\"This is the test data result:\")\n",
    "evl_test = Evaluation(train_data)\n",
    "y_predict_test = evl_test.test_model(cls, test_data)\n",
    "print(evl_test.summary())\n",
    "cm_df_weka_test = pd.DataFrame(evl_test.confusion_matrix, columns=[\"predicted neg\",\"predicted pos\"], index=[\"neg\", \"pos\"])\n",
    "display(cm_df_weka_test)\n",
    "plcls.plot_roc(evl_test, title=\"test data roc\", wait=True)"
   ]
  },
  {
   "cell_type": "code",
   "execution_count": 10,
   "id": "8968b5cb-76be-4bf3-ab5a-4d8253d65f67",
   "metadata": {},
   "outputs": [],
   "source": [
    "# for cv\n",
    "evl_cv1 = Evaluation(train_data)\n",
    "evl_cv1.crossvalidate_model(cls, train_data, 5, Random(1))"
   ]
  },
  {
   "cell_type": "code",
   "execution_count": 11,
   "id": "a6188f11-7bf7-401c-a6da-5e1eff9b62dd",
   "metadata": {},
   "outputs": [
    {
     "name": "stdout",
     "output_type": "stream",
     "text": [
      "99.15\n",
      "\n",
      "Correctly Classified Instances       59490               99.15   %\n",
      "Incorrectly Classified Instances       510                0.85   %\n",
      "Kappa statistic                          0.7206\n",
      "Mean absolute error                      0.0117\n",
      "Root mean squared error                  0.0841\n",
      "Relative absolute error                 35.8111 %\n",
      "Root relative squared error             65.7008 %\n",
      "Total Number of Instances            60000     \n",
      "\n"
     ]
    }
   ],
   "source": [
    "print(evl_cv1.percent_correct)\n",
    "print(evl_cv1.summary())"
   ]
  },
  {
   "cell_type": "markdown",
   "id": "c12b1199-5cf5-4276-b3fb-5960c5b767dd",
   "metadata": {
    "tags": []
   },
   "source": [
    "#### (f) Use SMOTE (Synthetic Minority Over-sampling Technique) to pre-process your data to compensate for class imbalance. Train a Logistic Model Tree using the pre-processed data and repeat 2e. Do not forget that there is a right and a wrong way of cross validation here. Compare the uncompensated case with SMOTE.\n",
    "\n",
    "#### ANSWER:\n",
    "#### The cv error rate with smote is 0.8567 %, train error rate is 0.3167% , test error rate is 1.0063 %\n",
    "#### we can find in test data in 2e and 2f, the false negative number has decreased from 106 to 101..."
   ]
  },
  {
   "cell_type": "code",
   "execution_count": 12,
   "id": "3338f17e-4cfc-442e-845e-da9cbc724cee",
   "metadata": {},
   "outputs": [
    {
     "name": "stdout",
     "output_type": "stream",
     "text": [
      "99.14333333333333\n",
      "\n",
      "Correctly Classified Instances       59486               99.1433 %\n",
      "Incorrectly Classified Instances       514                0.8567 %\n",
      "Kappa statistic                          0.7323\n",
      "Mean absolute error                      0.0126\n",
      "Root mean squared error                  0.0853\n",
      "Relative absolute error                 38.4489 %\n",
      "Root relative squared error             66.6417 %\n",
      "Total Number of Instances            60000     \n",
      "\n"
     ]
    }
   ],
   "source": [
    "# Use Smote\n",
    "\n",
    "# cv\n",
    "SMOTE = Filter(classname=\"weka.filters.supervised.instance.SMOTE\")\n",
    "\n",
    "fc = FilteredClassifier()\n",
    "fc.filter = SMOTE\n",
    "fc.classifier = cls\n",
    "\n",
    "evl_smote_cv = Evaluation(train_data)\n",
    "evl_smote_cv.crossvalidate_model(fc, train_data, 5, Random(1))\n",
    "\n",
    "print(evl_smote_cv.percent_correct)\n",
    "print(evl_smote_cv.summary())\n"
   ]
  },
  {
   "cell_type": "code",
   "execution_count": 13,
   "id": "e29d9ec8-019b-4d5c-bae1-94aef936d9a6",
   "metadata": {},
   "outputs": [
    {
     "data": {
      "text/html": [
       "<div>\n",
       "<style scoped>\n",
       "    .dataframe tbody tr th:only-of-type {\n",
       "        vertical-align: middle;\n",
       "    }\n",
       "\n",
       "    .dataframe tbody tr th {\n",
       "        vertical-align: top;\n",
       "    }\n",
       "\n",
       "    .dataframe thead th {\n",
       "        text-align: right;\n",
       "    }\n",
       "</style>\n",
       "<table border=\"1\" class=\"dataframe\">\n",
       "  <thead>\n",
       "    <tr style=\"text-align: right;\">\n",
       "      <th></th>\n",
       "      <th>predicted neg</th>\n",
       "      <th>predicted pos</th>\n",
       "    </tr>\n",
       "  </thead>\n",
       "  <tbody>\n",
       "    <tr>\n",
       "      <th>neg</th>\n",
       "      <td>58767.0</td>\n",
       "      <td>233.0</td>\n",
       "    </tr>\n",
       "    <tr>\n",
       "      <th>pos</th>\n",
       "      <td>281.0</td>\n",
       "      <td>719.0</td>\n",
       "    </tr>\n",
       "  </tbody>\n",
       "</table>\n",
       "</div>"
      ],
      "text/plain": [
       "     predicted neg  predicted pos\n",
       "neg        58767.0          233.0\n",
       "pos          281.0          719.0"
      ]
     },
     "metadata": {},
     "output_type": "display_data"
    }
   ],
   "source": [
    "cm_smote_cv = pd.DataFrame(evl_smote_cv.confusion_matrix, columns=[\"predicted neg\",\"predicted pos\"], index=[\"neg\", \"pos\"])\n",
    "display(cm_smote_cv)"
   ]
  },
  {
   "cell_type": "code",
   "execution_count": 14,
   "id": "f47cfe50-a77e-471f-b7b2-149a0ad0cddc",
   "metadata": {},
   "outputs": [],
   "source": [
    "fc.build_classifier(train_data)"
   ]
  },
  {
   "cell_type": "code",
   "execution_count": 15,
   "id": "8d5caa2d-7151-462a-8cba-28c0c60475f4",
   "metadata": {},
   "outputs": [
    {
     "name": "stdout",
     "output_type": "stream",
     "text": [
      "This is the train data with smote result:\n",
      "\n",
      "Correctly Classified Instances       59810               99.6833 %\n",
      "Incorrectly Classified Instances       190                0.3167 %\n",
      "Kappa statistic                          0.8988\n",
      "Mean absolute error                      0.0069\n",
      "Root mean squared error                  0.0537\n",
      "Relative absolute error                 20.9706 %\n",
      "Root relative squared error             41.9079 %\n",
      "Total Number of Instances            60000     \n",
      "\n"
     ]
    },
    {
     "data": {
      "text/html": [
       "<div>\n",
       "<style scoped>\n",
       "    .dataframe tbody tr th:only-of-type {\n",
       "        vertical-align: middle;\n",
       "    }\n",
       "\n",
       "    .dataframe tbody tr th {\n",
       "        vertical-align: top;\n",
       "    }\n",
       "\n",
       "    .dataframe thead th {\n",
       "        text-align: right;\n",
       "    }\n",
       "</style>\n",
       "<table border=\"1\" class=\"dataframe\">\n",
       "  <thead>\n",
       "    <tr style=\"text-align: right;\">\n",
       "      <th></th>\n",
       "      <th>predicted neg</th>\n",
       "      <th>predicted pos</th>\n",
       "    </tr>\n",
       "  </thead>\n",
       "  <tbody>\n",
       "    <tr>\n",
       "      <th>neg</th>\n",
       "      <td>58951.0</td>\n",
       "      <td>49.0</td>\n",
       "    </tr>\n",
       "    <tr>\n",
       "      <th>pos</th>\n",
       "      <td>141.0</td>\n",
       "      <td>859.0</td>\n",
       "    </tr>\n",
       "  </tbody>\n",
       "</table>\n",
       "</div>"
      ],
      "text/plain": [
       "     predicted neg  predicted pos\n",
       "neg        58951.0           49.0\n",
       "pos          141.0          859.0"
      ]
     },
     "metadata": {},
     "output_type": "display_data"
    },
    {
     "data": {
      "image/png": "[encoded data removed]",
      "text/plain": [
       "<Figure size 432x288 with 1 Axes>"
      ]
     },
     "metadata": {
      "needs_background": "light"
     },
     "output_type": "display_data"
    },
    {
     "name": "stdout",
     "output_type": "stream",
     "text": [
      "This is the test data with smote result:\n",
      "\n",
      "Correctly Classified Instances       15839               98.9938 %\n",
      "Incorrectly Classified Instances       161                1.0063 %\n",
      "Kappa statistic                          0.7678\n",
      "Mean absolute error                      0.013 \n",
      "Root mean squared error                  0.0946\n",
      "Relative absolute error                 33.1121 %\n",
      "Root relative squared error             62.4626 %\n",
      "Total Number of Instances            16000     \n",
      "\n"
     ]
    },
    {
     "data": {
      "text/html": [
       "<div>\n",
       "<style scoped>\n",
       "    .dataframe tbody tr th:only-of-type {\n",
       "        vertical-align: middle;\n",
       "    }\n",
       "\n",
       "    .dataframe tbody tr th {\n",
       "        vertical-align: top;\n",
       "    }\n",
       "\n",
       "    .dataframe thead th {\n",
       "        text-align: right;\n",
       "    }\n",
       "</style>\n",
       "<table border=\"1\" class=\"dataframe\">\n",
       "  <thead>\n",
       "    <tr style=\"text-align: right;\">\n",
       "      <th></th>\n",
       "      <th>predicted neg</th>\n",
       "      <th>predicted pos</th>\n",
       "    </tr>\n",
       "  </thead>\n",
       "  <tbody>\n",
       "    <tr>\n",
       "      <th>neg</th>\n",
       "      <td>15565.0</td>\n",
       "      <td>60.0</td>\n",
       "    </tr>\n",
       "    <tr>\n",
       "      <th>pos</th>\n",
       "      <td>101.0</td>\n",
       "      <td>274.0</td>\n",
       "    </tr>\n",
       "  </tbody>\n",
       "</table>\n",
       "</div>"
      ],
      "text/plain": [
       "     predicted neg  predicted pos\n",
       "neg        15565.0           60.0\n",
       "pos          101.0          274.0"
      ]
     },
     "metadata": {},
     "output_type": "display_data"
    },
    {
     "data": {
      "image/png": "[encoded data removed]",
      "text/plain": [
       "<Figure size 432x288 with 1 Axes>"
      ]
     },
     "metadata": {
      "needs_background": "light"
     },
     "output_type": "display_data"
    }
   ],
   "source": [
    "# evaluate model on train and test set\n",
    "print(\"This is the train data with smote result:\")\n",
    "evl_smote_train = Evaluation(train_data)\n",
    "y_predict_train2 = evl_smote_train.test_model(fc, train_data)\n",
    "print(evl_smote_train.summary())\n",
    "cm_df_weka_train2 = pd.DataFrame(evl_smote_train.confusion_matrix, columns=[\"predicted neg\",\"predicted pos\"], index=[\"neg\", \"pos\"])\n",
    "display(cm_df_weka_train2)\n",
    "plcls.plot_roc(evl_smote_train, title=\"train data roc with smote\", wait=True)\n",
    "\n",
    "\n",
    "\n",
    "print(\"This is the test data with smote result:\")\n",
    "evl_smote_test = Evaluation(train_data)\n",
    "y_predict_test2 = evl_smote_test.test_model(fc, test_data)\n",
    "print(evl_smote_test.summary())\n",
    "cm_df_weka_test2 = pd.DataFrame(evl_smote_test.confusion_matrix, columns=[\"predicted neg\",\"predicted pos\"], index=[\"neg\", \"pos\"])\n",
    "display(cm_df_weka_test2)\n",
    "plcls.plot_roc(evl_smote_test, title=\"test data roc with smote\", wait=True)"
   ]
  }
 ],
 "metadata": {
  "kernelspec": {
   "display_name": "Python [conda env:tensorflow] *",
   "language": "python",
   "name": "conda-env-tensorflow-py"
  },
  "language_info": {
   "codemirror_mode": {
    "name": "ipython",
    "version": 3
   },
   "file_extension": ".py",
   "mimetype": "text/x-python",
   "name": "python",
   "nbconvert_exporter": "python",
   "pygments_lexer": "ipython3",
   "version": "3.8.10"
  }
 },
 "nbformat": 4,
 "nbformat_minor": 5
}
